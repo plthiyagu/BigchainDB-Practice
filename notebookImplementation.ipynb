{
 "cells": [
  {
   "cell_type": "code",
   "execution_count": 7,
   "metadata": {},
   "outputs": [
    {
     "data": {
      "text/plain": [
       "{'asset': {'data': {'message': '{hash:XXX,ancestorsID:123}'}},\n",
       " 'id': '8885c101bb3f7ae9da9047aa0aeaa33a0457b8604e6caeded262cfca1844a67f',\n",
       " 'inputs': [{'fulfillment': 'pGSAIItuaxVNxq-DUGD8DoUZ63gWUk11SCvV-07rLkUkC_A5gUBae9c3T2U48v9kresQ3hfzB5u-hcAZNUEDAnGXNrWNPIdAvHeFUkDLCu0TKB-BcSLDUV2CblBeiKjWl_oOD6QM',\n",
       "   'fulfills': None,\n",
       "   'owners_before': ['APHKpaRrsNvDGACtAXywA4kF2k6Ffkj5Zsn2s1jKWfXn']}],\n",
       " 'metadata': None,\n",
       " 'operation': 'CREATE',\n",
       " 'outputs': [{'amount': '1',\n",
       "   'condition': {'details': {'public_key': 'APHKpaRrsNvDGACtAXywA4kF2k6Ffkj5Zsn2s1jKWfXn',\n",
       "     'type': 'ed25519-sha-256'},\n",
       "    'uri': 'ni:///sha-256;COsMDp9edUmBpg-_nltvn9ZpqSXgn404HD2DnoAWu1w?fpt=ed25519-sha-256&cost=131072'},\n",
       "   'public_keys': ['APHKpaRrsNvDGACtAXywA4kF2k6Ffkj5Zsn2s1jKWfXn']}],\n",
       " 'version': '1.0'}"
      ]
     },
     "execution_count": 7,
     "metadata": {},
     "output_type": "execute_result"
    }
   ],
   "source": [
    "\n",
    "\n",
    "from bigchaindb_driver import BigchainDB\n",
    "from bigchaindb_driver.crypto import generate_keypair\n",
    "\n",
    "\n",
    "bdb = BigchainDB(\n",
    "    'https://test.bigchaindb.com',\n",
    "    headers={'app_id': 'e83e36d3',\n",
    "             'app_key': 'a6808a33c16bf70790958441c92fd01d'})\n",
    "alice = generate_keypair()\n",
    "tx = bdb.transactions.prepare(\n",
    "    operation='CREATE',\n",
    "    signers=alice.public_key,\n",
    "    asset={'data': {'message': '{hash:XXX,ancestorsID:123}'}})\n",
    "signed_tx = bdb.transactions.fulfill(tx,private_keys=alice.private_key)\n",
    "\n",
    "bdb.transactions.send(signed_tx)\n",
    "\n"
   ]
  },
  {
   "cell_type": "code",
   "execution_count": 9,
   "metadata": {},
   "outputs": [
    {
     "data": {
      "text/plain": [
       "{'asset': {'data': {'message': 'test vivek'}},\n",
       " 'id': '31c58be55dc7b9f7feb89e3369e9743c9aceb247fb16e1b3d076a81c35d76243',\n",
       " 'inputs': [{'fulfillment': 'pGSAICEKEIKR4BZbQbogEFCHRR-X9ZqAA8WeOMQl1SX2M6yvgUD3RiwSVkAV0FdtH4sk2hATS4Y-PdCCkJzwfFhGFPmxhW2ugOy8Kpuk4EjcTPWywysklycRkPGfTIJRmBP2cWkM',\n",
       "   'fulfills': None,\n",
       "   'owners_before': ['3DyMbc32hyEqn9A9KwFaekUvTv44FjRvxViYB76tAp9C']}],\n",
       " 'metadata': None,\n",
       " 'operation': 'CREATE',\n",
       " 'outputs': [{'amount': '1',\n",
       "   'condition': {'details': {'public_key': '3DyMbc32hyEqn9A9KwFaekUvTv44FjRvxViYB76tAp9C',\n",
       "     'type': 'ed25519-sha-256'},\n",
       "    'uri': 'ni:///sha-256;hUMu9B2910ie5cIjo-dXIefrdmgom8xSKwMp0l9yM74?fpt=ed25519-sha-256&cost=131072'},\n",
       "   'public_keys': ['3DyMbc32hyEqn9A9KwFaekUvTv44FjRvxViYB76tAp9C']}],\n",
       " 'version': '1.0'}"
      ]
     },
     "execution_count": 9,
     "metadata": {},
     "output_type": "execute_result"
    }
   ],
   "source": [
    "creation_tx = bdb.transactions.retrieve('31c58be55dc7b9f7feb89e3369e9743c9aceb247fb16e1b3d076a81c35d76243')\n",
    "creation_tx"
   ]
  },
  {
   "cell_type": "code",
   "execution_count": 10,
   "metadata": {},
   "outputs": [
    {
     "data": {
      "text/plain": [
       "{'asset': {'data': {'message': '{hash:XXX,ancestorsID:123}'}},\n",
       " 'id': '8885c101bb3f7ae9da9047aa0aeaa33a0457b8604e6caeded262cfca1844a67f',\n",
       " 'inputs': [{'fulfillment': 'pGSAIItuaxVNxq-DUGD8DoUZ63gWUk11SCvV-07rLkUkC_A5gUBae9c3T2U48v9kresQ3hfzB5u-hcAZNUEDAnGXNrWNPIdAvHeFUkDLCu0TKB-BcSLDUV2CblBeiKjWl_oOD6QM',\n",
       "   'fulfills': None,\n",
       "   'owners_before': ['APHKpaRrsNvDGACtAXywA4kF2k6Ffkj5Zsn2s1jKWfXn']}],\n",
       " 'metadata': None,\n",
       " 'operation': 'CREATE',\n",
       " 'outputs': [{'amount': '1',\n",
       "   'condition': {'details': {'public_key': 'APHKpaRrsNvDGACtAXywA4kF2k6Ffkj5Zsn2s1jKWfXn',\n",
       "     'type': 'ed25519-sha-256'},\n",
       "    'uri': 'ni:///sha-256;COsMDp9edUmBpg-_nltvn9ZpqSXgn404HD2DnoAWu1w?fpt=ed25519-sha-256&cost=131072'},\n",
       "   'public_keys': ['APHKpaRrsNvDGACtAXywA4kF2k6Ffkj5Zsn2s1jKWfXn']}],\n",
       " 'version': '1.0'}"
      ]
     },
     "execution_count": 10,
     "metadata": {},
     "output_type": "execute_result"
    }
   ],
   "source": [
    "creation_tx = bdb.transactions.retrieve('8885c101bb3f7ae9da9047aa0aeaa33a0457b8604e6caeded262cfca1844a67f')\n",
    "creation_tx"
   ]
  }
 ],
 "metadata": {
  "kernelspec": {
   "display_name": "Python 3",
   "language": "python",
   "name": "python3"
  }
 },
 "nbformat": 4,
 "nbformat_minor": 2
}
